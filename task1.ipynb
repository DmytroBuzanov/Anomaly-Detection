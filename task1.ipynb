{
  "nbformat": 4,
  "nbformat_minor": 0,
  "metadata": {
    "colab": {
      "name": "task1.ipynb",
      "provenance": [],
      "collapsed_sections": [],
      "authorship_tag": "ABX9TyNDvbMTLBk+23Pbxm+qYoo5",
      "include_colab_link": true
    },
    "kernelspec": {
      "name": "python3",
      "display_name": "Python 3"
    },
    "language_info": {
      "name": "python"
    }
  },
  "cells": [
    {
      "cell_type": "markdown",
      "metadata": {
        "id": "view-in-github",
        "colab_type": "text"
      },
      "source": [
        "<a href=\"https://colab.research.google.com/github/DmytroBuzanov/Anomaly-Detection/blob/main/task1.ipynb\" target=\"_parent\"><img src=\"https://colab.research.google.com/assets/colab-badge.svg\" alt=\"Open In Colab\"/></a>"
      ]
    },
    {
      "cell_type": "code",
      "metadata": {
        "colab": {
          "base_uri": "https://localhost:8080/"
        },
        "id": "zNrqYnAgHClx",
        "outputId": "6fc045e8-3da3-40ff-eec6-b73a43ebab9b"
      },
      "source": [
        "# Імпорт необхідних бібліотек\n",
        "\n",
        "import pandas as pd\n",
        "import pandas_profiling\n",
        "\n",
        "\n",
        "from google.colab import drive\n",
        "drive.mount('/content/drive')"
      ],
      "execution_count": 1,
      "outputs": [
        {
          "output_type": "stream",
          "text": [
            "Drive already mounted at /content/drive; to attempt to forcibly remount, call drive.mount(\"/content/drive\", force_remount=True).\n"
          ],
          "name": "stdout"
        }
      ]
    },
    {
      "cell_type": "code",
      "metadata": {
        "id": "FATLnh1MHvrg"
      },
      "source": [
        "# Зчитування даних\n",
        "\n",
        "df1 = pd.read_csv('/content/drive/My Drive/data/1_ROL_daily.csv')\n",
        "df2 = pd.read_csv('/content/drive/My Drive/data/1_ROL_intraday.csv')\n",
        "# df1.info()"
      ],
      "execution_count": 2,
      "outputs": []
    },
    {
      "cell_type": "code",
      "metadata": {
        "id": "b1TVFgJDICut"
      },
      "source": [
        "# Формування одного датафрейму по заданим датам\n",
        "\n",
        "start_date = '2020-10-01'\n",
        "end_date = '2020-12-31'\n",
        "\n",
        "mask1 = (df1['date'] >= start_date) & (df1['date'] <= end_date)\n",
        "mask2 = (df2['date'] >= start_date) & (df2['date'] <= end_date)\n",
        "\n",
        "df1 = df1.loc[mask1]\n",
        "df2 = df2.loc[mask2]\n",
        "\n",
        "df12 = df1.merge(df2, how = 'outer')\n",
        "df12.to_csv('/content/drive/My Drive/data/1_ROL_daily_intraday.csv')"
      ],
      "execution_count": 3,
      "outputs": []
    },
    {
      "cell_type": "code",
      "metadata": {
        "colab": {
          "base_uri": "https://localhost:8080/",
          "height": 450
        },
        "id": "scvLOXlFN5Vo",
        "outputId": "5cee20d4-d8d8-4205-c9d4-899393fd6142"
      },
      "source": [
        "# Групування даних\n",
        "\n",
        "df12.groupby(['date'], as_index=False) \\\n",
        "    .aggregate({'volume': 'count'}) \\\n",
        "    .tail(13)"
      ],
      "execution_count": 4,
      "outputs": [
        {
          "output_type": "execute_result",
          "data": {
            "text/html": [
              "<div>\n",
              "<style scoped>\n",
              "    .dataframe tbody tr th:only-of-type {\n",
              "        vertical-align: middle;\n",
              "    }\n",
              "\n",
              "    .dataframe tbody tr th {\n",
              "        vertical-align: top;\n",
              "    }\n",
              "\n",
              "    .dataframe thead th {\n",
              "        text-align: right;\n",
              "    }\n",
              "</style>\n",
              "<table border=\"1\" class=\"dataframe\">\n",
              "  <thead>\n",
              "    <tr style=\"text-align: right;\">\n",
              "      <th></th>\n",
              "      <th>date</th>\n",
              "      <th>volume</th>\n",
              "    </tr>\n",
              "  </thead>\n",
              "  <tbody>\n",
              "    <tr>\n",
              "      <th>47</th>\n",
              "      <td>2020-12-08</td>\n",
              "      <td>378</td>\n",
              "    </tr>\n",
              "    <tr>\n",
              "      <th>48</th>\n",
              "      <td>2020-12-09</td>\n",
              "      <td>364</td>\n",
              "    </tr>\n",
              "    <tr>\n",
              "      <th>49</th>\n",
              "      <td>2020-12-10</td>\n",
              "      <td>351</td>\n",
              "    </tr>\n",
              "    <tr>\n",
              "      <th>50</th>\n",
              "      <td>2020-12-11</td>\n",
              "      <td>399</td>\n",
              "    </tr>\n",
              "    <tr>\n",
              "      <th>51</th>\n",
              "      <td>2020-12-14</td>\n",
              "      <td>392</td>\n",
              "    </tr>\n",
              "    <tr>\n",
              "      <th>52</th>\n",
              "      <td>2020-12-15</td>\n",
              "      <td>387</td>\n",
              "    </tr>\n",
              "    <tr>\n",
              "      <th>53</th>\n",
              "      <td>2020-12-16</td>\n",
              "      <td>394</td>\n",
              "    </tr>\n",
              "    <tr>\n",
              "      <th>54</th>\n",
              "      <td>2020-12-17</td>\n",
              "      <td>387</td>\n",
              "    </tr>\n",
              "    <tr>\n",
              "      <th>55</th>\n",
              "      <td>2020-12-18</td>\n",
              "      <td>381</td>\n",
              "    </tr>\n",
              "    <tr>\n",
              "      <th>56</th>\n",
              "      <td>2020-12-21</td>\n",
              "      <td>390</td>\n",
              "    </tr>\n",
              "    <tr>\n",
              "      <th>57</th>\n",
              "      <td>2020-12-22</td>\n",
              "      <td>376</td>\n",
              "    </tr>\n",
              "    <tr>\n",
              "      <th>58</th>\n",
              "      <td>2020-12-23</td>\n",
              "      <td>381</td>\n",
              "    </tr>\n",
              "    <tr>\n",
              "      <th>59</th>\n",
              "      <td>2020-12-24</td>\n",
              "      <td>27</td>\n",
              "    </tr>\n",
              "  </tbody>\n",
              "</table>\n",
              "</div>"
            ],
            "text/plain": [
              "          date  volume\n",
              "47  2020-12-08     378\n",
              "48  2020-12-09     364\n",
              "49  2020-12-10     351\n",
              "50  2020-12-11     399\n",
              "51  2020-12-14     392\n",
              "52  2020-12-15     387\n",
              "53  2020-12-16     394\n",
              "54  2020-12-17     387\n",
              "55  2020-12-18     381\n",
              "56  2020-12-21     390\n",
              "57  2020-12-22     376\n",
              "58  2020-12-23     381\n",
              "59  2020-12-24      27"
            ]
          },
          "metadata": {
            "tags": []
          },
          "execution_count": 4
        }
      ]
    },
    {
      "cell_type": "markdown",
      "metadata": {
        "id": "WSLWPLNaq5t2"
      },
      "source": [
        "**Можна зробити висновок: незвичний день - 24 грудня 2020 року. \n",
        "Чому? Велика кількість фондових ринків та постачальників даних пов'язана з США або іншими країнами, що святкують Різдво 25 грудня. Саме тому, напередодні великого свята, було здійснено набагато менше операцій, ніж в інші дні.**\n",
        "\n"
      ]
    },
    {
      "cell_type": "code",
      "metadata": {
        "id": "3BWhR59FrDqH"
      },
      "source": [
        ""
      ],
      "execution_count": 4,
      "outputs": []
    }
  ]
}