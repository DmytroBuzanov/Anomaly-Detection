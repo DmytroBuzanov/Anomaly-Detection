{
  "nbformat": 4,
  "nbformat_minor": 0,
  "metadata": {
    "colab": {
      "name": "task3.ipynb",
      "provenance": [],
      "include_colab_link": true
    },
    "kernelspec": {
      "name": "python3",
      "display_name": "Python 3"
    },
    "language_info": {
      "name": "python"
    }
  },
  "cells": [
    {
      "cell_type": "markdown",
      "metadata": {
        "id": "view-in-github",
        "colab_type": "text"
      },
      "source": [
        "<a href=\"https://colab.research.google.com/github/DmytroBuzanov/Anomaly-Detection/blob/main/task3.ipynb\" target=\"_parent\"><img src=\"https://colab.research.google.com/assets/colab-badge.svg\" alt=\"Open In Colab\"/></a>"
      ]
    },
    {
      "cell_type": "code",
      "metadata": {
        "colab": {
          "base_uri": "https://localhost:8080/"
        },
        "id": "zNrqYnAgHClx",
        "outputId": "03a07457-5cfc-4e9e-adc9-efeb56418150"
      },
      "source": [
        "# Імпорт необхідних бібліотек\n",
        "\n",
        "import pandas as pd\n",
        "import pandas_profiling\n",
        "import matplotlib.pyplot as plt\n",
        "\n",
        "from sklearn.preprocessing import StandardScaler\n",
        "from sklearn.ensemble import IsolationForest\n",
        "\n",
        "from google.colab import drive\n",
        "drive.mount('/content/drive')"
      ],
      "execution_count": 1,
      "outputs": [
        {
          "output_type": "stream",
          "text": [
            "Drive already mounted at /content/drive; to attempt to forcibly remount, call drive.mount(\"/content/drive\", force_remount=True).\n"
          ],
          "name": "stdout"
        }
      ]
    },
    {
      "cell_type": "code",
      "metadata": {
        "id": "FATLnh1MHvrg",
        "colab": {
          "base_uri": "https://localhost:8080/",
          "height": 417
        },
        "outputId": "98922dc4-42ee-484a-ce26-d332722fafee"
      },
      "source": [
        "# Зчитування даних\n",
        "\n",
        "df = pd.read_csv('/content/drive/My Drive/data/3_2020-03-16 SPY.txt')\n",
        "df"
      ],
      "execution_count": 2,
      "outputs": [
        {
          "output_type": "execute_result",
          "data": {
            "text/html": [
              "<div>\n",
              "<style scoped>\n",
              "    .dataframe tbody tr th:only-of-type {\n",
              "        vertical-align: middle;\n",
              "    }\n",
              "\n",
              "    .dataframe tbody tr th {\n",
              "        vertical-align: top;\n",
              "    }\n",
              "\n",
              "    .dataframe thead th {\n",
              "        text-align: right;\n",
              "    }\n",
              "</style>\n",
              "<table border=\"1\" class=\"dataframe\">\n",
              "  <thead>\n",
              "    <tr style=\"text-align: right;\">\n",
              "      <th></th>\n",
              "      <th>datetime</th>\n",
              "      <th>price</th>\n",
              "      <th>volume</th>\n",
              "      <th>sumVolume</th>\n",
              "      <th>bid</th>\n",
              "      <th>ask</th>\n",
              "      <th>tickId</th>\n",
              "      <th>basis</th>\n",
              "      <th>tradeMarketCenter</th>\n",
              "      <th>TradeConditions</th>\n",
              "      <th>TradeAggressor</th>\n",
              "      <th>ecn</th>\n",
              "      <th>Unnamed: 12</th>\n",
              "    </tr>\n",
              "  </thead>\n",
              "  <tbody>\n",
              "    <tr>\n",
              "      <th>0</th>\n",
              "      <td>2020-03-16 04:00:00.017723</td>\n",
              "      <td>253.20</td>\n",
              "      <td>2771</td>\n",
              "      <td>2771</td>\n",
              "      <td>252.41</td>\n",
              "      <td>253.20</td>\n",
              "      <td>808464454</td>\n",
              "      <td>E</td>\n",
              "      <td>11</td>\n",
              "      <td>1747</td>\n",
              "      <td>0</td>\n",
              "      <td>16</td>\n",
              "      <td>NaN</td>\n",
              "    </tr>\n",
              "    <tr>\n",
              "      <th>1</th>\n",
              "      <td>2020-03-16 04:00:00.021236</td>\n",
              "      <td>262.75</td>\n",
              "      <td>300</td>\n",
              "      <td>3071</td>\n",
              "      <td>252.41</td>\n",
              "      <td>253.20</td>\n",
              "      <td>808731993</td>\n",
              "      <td>E</td>\n",
              "      <td>5</td>\n",
              "      <td>173D</td>\n",
              "      <td>0</td>\n",
              "      <td>16</td>\n",
              "      <td>NaN</td>\n",
              "    </tr>\n",
              "    <tr>\n",
              "      <th>2</th>\n",
              "      <td>2020-03-16 04:00:00.022473</td>\n",
              "      <td>253.20</td>\n",
              "      <td>600</td>\n",
              "      <td>3671</td>\n",
              "      <td>252.41</td>\n",
              "      <td>253.20</td>\n",
              "      <td>808464455</td>\n",
              "      <td>E</td>\n",
              "      <td>11</td>\n",
              "      <td>173D</td>\n",
              "      <td>0</td>\n",
              "      <td>16</td>\n",
              "      <td>NaN</td>\n",
              "    </tr>\n",
              "    <tr>\n",
              "      <th>3</th>\n",
              "      <td>2020-03-16 04:00:00.023496</td>\n",
              "      <td>258.84</td>\n",
              "      <td>300</td>\n",
              "      <td>3971</td>\n",
              "      <td>252.41</td>\n",
              "      <td>253.20</td>\n",
              "      <td>808731994</td>\n",
              "      <td>E</td>\n",
              "      <td>5</td>\n",
              "      <td>173D</td>\n",
              "      <td>0</td>\n",
              "      <td>16</td>\n",
              "      <td>NaN</td>\n",
              "    </tr>\n",
              "    <tr>\n",
              "      <th>4</th>\n",
              "      <td>2020-03-16 04:00:00.690195</td>\n",
              "      <td>253.20</td>\n",
              "      <td>10</td>\n",
              "      <td>3981</td>\n",
              "      <td>252.41</td>\n",
              "      <td>253.20</td>\n",
              "      <td>808732012</td>\n",
              "      <td>O</td>\n",
              "      <td>5</td>\n",
              "      <td>873D17</td>\n",
              "      <td>0</td>\n",
              "      <td>16</td>\n",
              "      <td>NaN</td>\n",
              "    </tr>\n",
              "    <tr>\n",
              "      <th>...</th>\n",
              "      <td>...</td>\n",
              "      <td>...</td>\n",
              "      <td>...</td>\n",
              "      <td>...</td>\n",
              "      <td>...</td>\n",
              "      <td>...</td>\n",
              "      <td>...</td>\n",
              "      <td>...</td>\n",
              "      <td>...</td>\n",
              "      <td>...</td>\n",
              "      <td>...</td>\n",
              "      <td>...</td>\n",
              "      <td>...</td>\n",
              "    </tr>\n",
              "    <tr>\n",
              "      <th>2147733</th>\n",
              "      <td>2020-03-16 19:59:56.862917</td>\n",
              "      <td>244.89</td>\n",
              "      <td>96</td>\n",
              "      <td>297240017</td>\n",
              "      <td>244.79</td>\n",
              "      <td>244.92</td>\n",
              "      <td>813134709</td>\n",
              "      <td>O</td>\n",
              "      <td>26</td>\n",
              "      <td>873D17</td>\n",
              "      <td>0</td>\n",
              "      <td>16</td>\n",
              "      <td>NaN</td>\n",
              "    </tr>\n",
              "    <tr>\n",
              "      <th>2147734</th>\n",
              "      <td>2020-03-16 19:59:56.862940</td>\n",
              "      <td>244.89</td>\n",
              "      <td>9</td>\n",
              "      <td>297240026</td>\n",
              "      <td>244.79</td>\n",
              "      <td>244.92</td>\n",
              "      <td>813134710</td>\n",
              "      <td>O</td>\n",
              "      <td>26</td>\n",
              "      <td>873D17</td>\n",
              "      <td>0</td>\n",
              "      <td>16</td>\n",
              "      <td>NaN</td>\n",
              "    </tr>\n",
              "    <tr>\n",
              "      <th>2147735</th>\n",
              "      <td>2020-03-16 19:59:58.628865</td>\n",
              "      <td>244.90</td>\n",
              "      <td>1</td>\n",
              "      <td>297240027</td>\n",
              "      <td>244.80</td>\n",
              "      <td>244.95</td>\n",
              "      <td>813134712</td>\n",
              "      <td>O</td>\n",
              "      <td>26</td>\n",
              "      <td>873D17</td>\n",
              "      <td>0</td>\n",
              "      <td>16</td>\n",
              "      <td>NaN</td>\n",
              "    </tr>\n",
              "    <tr>\n",
              "      <th>2147736</th>\n",
              "      <td>2020-03-16 20:00:00.001778</td>\n",
              "      <td>239.85</td>\n",
              "      <td>0</td>\n",
              "      <td>297240027</td>\n",
              "      <td>244.79</td>\n",
              "      <td>244.92</td>\n",
              "      <td>1211452497</td>\n",
              "      <td>C</td>\n",
              "      <td>11</td>\n",
              "      <td>88</td>\n",
              "      <td>0</td>\n",
              "      <td>16</td>\n",
              "      <td>NaN</td>\n",
              "    </tr>\n",
              "    <tr>\n",
              "      <th>2147737</th>\n",
              "      <td>2020-03-16 20:00:00.001796</td>\n",
              "      <td>239.85</td>\n",
              "      <td>0</td>\n",
              "      <td>297240027</td>\n",
              "      <td>244.79</td>\n",
              "      <td>244.92</td>\n",
              "      <td>1211452498</td>\n",
              "      <td>O</td>\n",
              "      <td>11</td>\n",
              "      <td>2E</td>\n",
              "      <td>0</td>\n",
              "      <td>16</td>\n",
              "      <td>NaN</td>\n",
              "    </tr>\n",
              "  </tbody>\n",
              "</table>\n",
              "<p>2147738 rows × 13 columns</p>\n",
              "</div>"
            ],
            "text/plain": [
              "                           datetime   price  ...  ecn  Unnamed: 12\n",
              "0        2020-03-16 04:00:00.017723  253.20  ...   16          NaN\n",
              "1        2020-03-16 04:00:00.021236  262.75  ...   16          NaN\n",
              "2        2020-03-16 04:00:00.022473  253.20  ...   16          NaN\n",
              "3        2020-03-16 04:00:00.023496  258.84  ...   16          NaN\n",
              "4        2020-03-16 04:00:00.690195  253.20  ...   16          NaN\n",
              "...                             ...     ...  ...  ...          ...\n",
              "2147733  2020-03-16 19:59:56.862917  244.89  ...   16          NaN\n",
              "2147734  2020-03-16 19:59:56.862940  244.89  ...   16          NaN\n",
              "2147735  2020-03-16 19:59:58.628865  244.90  ...   16          NaN\n",
              "2147736  2020-03-16 20:00:00.001778  239.85  ...   16          NaN\n",
              "2147737  2020-03-16 20:00:00.001796  239.85  ...   16          NaN\n",
              "\n",
              "[2147738 rows x 13 columns]"
            ]
          },
          "metadata": {
            "tags": []
          },
          "execution_count": 2
        }
      ]
    },
    {
      "cell_type": "code",
      "metadata": {
        "colab": {
          "base_uri": "https://localhost:8080/"
        },
        "id": "AiSXajkMvTTR",
        "outputId": "1e224c35-d273-4a5a-f87c-be7c9d4600c5"
      },
      "source": [
        "df.info()"
      ],
      "execution_count": 3,
      "outputs": [
        {
          "output_type": "stream",
          "text": [
            "<class 'pandas.core.frame.DataFrame'>\n",
            "RangeIndex: 2147738 entries, 0 to 2147737\n",
            "Data columns (total 13 columns):\n",
            " #   Column             Dtype  \n",
            "---  ------             -----  \n",
            " 0   datetime           object \n",
            " 1   price              float64\n",
            " 2   volume             int64  \n",
            " 3   sumVolume          int64  \n",
            " 4   bid                float64\n",
            " 5   ask                float64\n",
            " 6   tickId             int64  \n",
            " 7   basis              object \n",
            " 8   tradeMarketCenter  int64  \n",
            " 9   TradeConditions    object \n",
            " 10  TradeAggressor     int64  \n",
            " 11  ecn                int64  \n",
            " 12  Unnamed: 12        float64\n",
            "dtypes: float64(4), int64(6), object(3)\n",
            "memory usage: 213.0+ MB\n"
          ],
          "name": "stdout"
        }
      ]
    },
    {
      "cell_type": "code",
      "metadata": {
        "colab": {
          "base_uri": "https://localhost:8080/",
          "height": 295
        },
        "id": "wLDCe9DrvWZf",
        "outputId": "358be7b6-ad37-481f-d918-cf61c7cfee30"
      },
      "source": [
        "df.describe()"
      ],
      "execution_count": 4,
      "outputs": [
        {
          "output_type": "execute_result",
          "data": {
            "text/html": [
              "<div>\n",
              "<style scoped>\n",
              "    .dataframe tbody tr th:only-of-type {\n",
              "        vertical-align: middle;\n",
              "    }\n",
              "\n",
              "    .dataframe tbody tr th {\n",
              "        vertical-align: top;\n",
              "    }\n",
              "\n",
              "    .dataframe thead th {\n",
              "        text-align: right;\n",
              "    }\n",
              "</style>\n",
              "<table border=\"1\" class=\"dataframe\">\n",
              "  <thead>\n",
              "    <tr style=\"text-align: right;\">\n",
              "      <th></th>\n",
              "      <th>price</th>\n",
              "      <th>volume</th>\n",
              "      <th>sumVolume</th>\n",
              "      <th>bid</th>\n",
              "      <th>ask</th>\n",
              "      <th>tickId</th>\n",
              "      <th>tradeMarketCenter</th>\n",
              "      <th>TradeAggressor</th>\n",
              "      <th>ecn</th>\n",
              "      <th>Unnamed: 12</th>\n",
              "    </tr>\n",
              "  </thead>\n",
              "  <tbody>\n",
              "    <tr>\n",
              "      <th>count</th>\n",
              "      <td>2.147738e+06</td>\n",
              "      <td>2.147738e+06</td>\n",
              "      <td>2.147738e+06</td>\n",
              "      <td>2.147738e+06</td>\n",
              "      <td>2.147738e+06</td>\n",
              "      <td>2.147738e+06</td>\n",
              "      <td>2.147738e+06</td>\n",
              "      <td>2147738.0</td>\n",
              "      <td>2147738.0</td>\n",
              "      <td>0.0</td>\n",
              "    </tr>\n",
              "    <tr>\n",
              "      <th>mean</th>\n",
              "      <td>2.476152e+02</td>\n",
              "      <td>1.383966e+02</td>\n",
              "      <td>1.356271e+08</td>\n",
              "      <td>2.476001e+02</td>\n",
              "      <td>2.476252e+02</td>\n",
              "      <td>9.868476e+08</td>\n",
              "      <td>2.026641e+01</td>\n",
              "      <td>0.0</td>\n",
              "      <td>16.0</td>\n",
              "      <td>NaN</td>\n",
              "    </tr>\n",
              "    <tr>\n",
              "      <th>std</th>\n",
              "      <td>4.095209e+00</td>\n",
              "      <td>3.830150e+03</td>\n",
              "      <td>7.421835e+07</td>\n",
              "      <td>4.094107e+00</td>\n",
              "      <td>4.089046e+00</td>\n",
              "      <td>2.576151e+08</td>\n",
              "      <td>2.547525e+01</td>\n",
              "      <td>0.0</td>\n",
              "      <td>0.0</td>\n",
              "      <td>NaN</td>\n",
              "    </tr>\n",
              "    <tr>\n",
              "      <th>min</th>\n",
              "      <td>2.373600e+02</td>\n",
              "      <td>0.000000e+00</td>\n",
              "      <td>2.771000e+03</td>\n",
              "      <td>2.373600e+02</td>\n",
              "      <td>2.373700e+02</td>\n",
              "      <td>8.084644e+08</td>\n",
              "      <td>5.000000e+00</td>\n",
              "      <td>0.0</td>\n",
              "      <td>16.0</td>\n",
              "      <td>NaN</td>\n",
              "    </tr>\n",
              "    <tr>\n",
              "      <th>25%</th>\n",
              "      <td>2.449900e+02</td>\n",
              "      <td>1.300000e+01</td>\n",
              "      <td>7.195093e+07</td>\n",
              "      <td>2.449700e+02</td>\n",
              "      <td>2.450000e+02</td>\n",
              "      <td>8.107081e+08</td>\n",
              "      <td>1.100000e+01</td>\n",
              "      <td>0.0</td>\n",
              "      <td>16.0</td>\n",
              "      <td>NaN</td>\n",
              "    </tr>\n",
              "    <tr>\n",
              "      <th>50%</th>\n",
              "      <td>2.476100e+02</td>\n",
              "      <td>9.100000e+01</td>\n",
              "      <td>1.353438e+08</td>\n",
              "      <td>2.476000e+02</td>\n",
              "      <td>2.476200e+02</td>\n",
              "      <td>8.588023e+08</td>\n",
              "      <td>1.200000e+01</td>\n",
              "      <td>0.0</td>\n",
              "      <td>16.0</td>\n",
              "      <td>NaN</td>\n",
              "    </tr>\n",
              "    <tr>\n",
              "      <th>75%</th>\n",
              "      <td>2.506900e+02</td>\n",
              "      <td>1.000000e+02</td>\n",
              "      <td>1.939370e+08</td>\n",
              "      <td>2.506800e+02</td>\n",
              "      <td>2.507000e+02</td>\n",
              "      <td>1.113479e+09</td>\n",
              "      <td>2.500000e+01</td>\n",
              "      <td>0.0</td>\n",
              "      <td>16.0</td>\n",
              "      <td>NaN</td>\n",
              "    </tr>\n",
              "    <tr>\n",
              "      <th>max</th>\n",
              "      <td>2.788800e+02</td>\n",
              "      <td>3.399842e+06</td>\n",
              "      <td>2.972400e+08</td>\n",
              "      <td>2.568800e+02</td>\n",
              "      <td>2.569000e+02</td>\n",
              "      <td>2.054845e+09</td>\n",
              "      <td>1.640000e+02</td>\n",
              "      <td>0.0</td>\n",
              "      <td>16.0</td>\n",
              "      <td>NaN</td>\n",
              "    </tr>\n",
              "  </tbody>\n",
              "</table>\n",
              "</div>"
            ],
            "text/plain": [
              "              price        volume  ...        ecn  Unnamed: 12\n",
              "count  2.147738e+06  2.147738e+06  ...  2147738.0          0.0\n",
              "mean   2.476152e+02  1.383966e+02  ...       16.0          NaN\n",
              "std    4.095209e+00  3.830150e+03  ...        0.0          NaN\n",
              "min    2.373600e+02  0.000000e+00  ...       16.0          NaN\n",
              "25%    2.449900e+02  1.300000e+01  ...       16.0          NaN\n",
              "50%    2.476100e+02  9.100000e+01  ...       16.0          NaN\n",
              "75%    2.506900e+02  1.000000e+02  ...       16.0          NaN\n",
              "max    2.788800e+02  3.399842e+06  ...       16.0          NaN\n",
              "\n",
              "[8 rows x 10 columns]"
            ]
          },
          "metadata": {
            "tags": []
          },
          "execution_count": 4
        }
      ]
    },
    {
      "cell_type": "code",
      "metadata": {
        "id": "oywM9aYgvXEx"
      },
      "source": [
        "df = df[['datetime',\t'price',\t'volume',\t'sumVolume',\t'bid',\t'ask',\t'tickId',\t'tradeMarketCenter']]"
      ],
      "execution_count": 5,
      "outputs": []
    },
    {
      "cell_type": "code",
      "metadata": {
        "colab": {
          "base_uri": "https://localhost:8080/",
          "height": 618
        },
        "id": "6MstMDpR557p",
        "outputId": "db505dfa-2d33-403b-9f5a-584b5464357a"
      },
      "source": [
        "df['datetime'] = pd.to_datetime(df['datetime'])\n",
        "df['datetime'] = pd.to_numeric(pd.to_datetime(df['datetime']))\n",
        "# df = df.set_index(pd.DatetimeIndex(df['datetime']))"
      ],
      "execution_count": 6,
      "outputs": [
        {
          "output_type": "stream",
          "text": [
            "/usr/local/lib/python3.7/dist-packages/ipykernel_launcher.py:1: SettingWithCopyWarning: \n",
            "A value is trying to be set on a copy of a slice from a DataFrame.\n",
            "Try using .loc[row_indexer,col_indexer] = value instead\n",
            "\n",
            "See the caveats in the documentation: https://pandas.pydata.org/pandas-docs/stable/user_guide/indexing.html#returning-a-view-versus-a-copy\n",
            "  \"\"\"Entry point for launching an IPython kernel.\n",
            "/usr/local/lib/python3.7/dist-packages/ipykernel_launcher.py:2: SettingWithCopyWarning: \n",
            "A value is trying to be set on a copy of a slice from a DataFrame.\n",
            "Try using .loc[row_indexer,col_indexer] = value instead\n",
            "\n",
            "See the caveats in the documentation: https://pandas.pydata.org/pandas-docs/stable/user_guide/indexing.html#returning-a-view-versus-a-copy\n",
            "  \n"
          ],
          "name": "stderr"
        },
        {
          "output_type": "execute_result",
          "data": {
            "text/html": [
              "<div>\n",
              "<style scoped>\n",
              "    .dataframe tbody tr th:only-of-type {\n",
              "        vertical-align: middle;\n",
              "    }\n",
              "\n",
              "    .dataframe tbody tr th {\n",
              "        vertical-align: top;\n",
              "    }\n",
              "\n",
              "    .dataframe thead th {\n",
              "        text-align: right;\n",
              "    }\n",
              "</style>\n",
              "<table border=\"1\" class=\"dataframe\">\n",
              "  <thead>\n",
              "    <tr style=\"text-align: right;\">\n",
              "      <th></th>\n",
              "      <th>datetime</th>\n",
              "      <th>price</th>\n",
              "      <th>volume</th>\n",
              "      <th>sumVolume</th>\n",
              "      <th>bid</th>\n",
              "      <th>ask</th>\n",
              "      <th>tickId</th>\n",
              "      <th>tradeMarketCenter</th>\n",
              "    </tr>\n",
              "  </thead>\n",
              "  <tbody>\n",
              "    <tr>\n",
              "      <th>0</th>\n",
              "      <td>1584331200017723000</td>\n",
              "      <td>253.20</td>\n",
              "      <td>2771</td>\n",
              "      <td>2771</td>\n",
              "      <td>252.41</td>\n",
              "      <td>253.20</td>\n",
              "      <td>808464454</td>\n",
              "      <td>11</td>\n",
              "    </tr>\n",
              "    <tr>\n",
              "      <th>1</th>\n",
              "      <td>1584331200021236000</td>\n",
              "      <td>262.75</td>\n",
              "      <td>300</td>\n",
              "      <td>3071</td>\n",
              "      <td>252.41</td>\n",
              "      <td>253.20</td>\n",
              "      <td>808731993</td>\n",
              "      <td>5</td>\n",
              "    </tr>\n",
              "    <tr>\n",
              "      <th>2</th>\n",
              "      <td>1584331200022473000</td>\n",
              "      <td>253.20</td>\n",
              "      <td>600</td>\n",
              "      <td>3671</td>\n",
              "      <td>252.41</td>\n",
              "      <td>253.20</td>\n",
              "      <td>808464455</td>\n",
              "      <td>11</td>\n",
              "    </tr>\n",
              "    <tr>\n",
              "      <th>3</th>\n",
              "      <td>1584331200023496000</td>\n",
              "      <td>258.84</td>\n",
              "      <td>300</td>\n",
              "      <td>3971</td>\n",
              "      <td>252.41</td>\n",
              "      <td>253.20</td>\n",
              "      <td>808731994</td>\n",
              "      <td>5</td>\n",
              "    </tr>\n",
              "    <tr>\n",
              "      <th>4</th>\n",
              "      <td>1584331200690195000</td>\n",
              "      <td>253.20</td>\n",
              "      <td>10</td>\n",
              "      <td>3981</td>\n",
              "      <td>252.41</td>\n",
              "      <td>253.20</td>\n",
              "      <td>808732012</td>\n",
              "      <td>5</td>\n",
              "    </tr>\n",
              "    <tr>\n",
              "      <th>...</th>\n",
              "      <td>...</td>\n",
              "      <td>...</td>\n",
              "      <td>...</td>\n",
              "      <td>...</td>\n",
              "      <td>...</td>\n",
              "      <td>...</td>\n",
              "      <td>...</td>\n",
              "      <td>...</td>\n",
              "    </tr>\n",
              "    <tr>\n",
              "      <th>2147733</th>\n",
              "      <td>1584388796862917000</td>\n",
              "      <td>244.89</td>\n",
              "      <td>96</td>\n",
              "      <td>297240017</td>\n",
              "      <td>244.79</td>\n",
              "      <td>244.92</td>\n",
              "      <td>813134709</td>\n",
              "      <td>26</td>\n",
              "    </tr>\n",
              "    <tr>\n",
              "      <th>2147734</th>\n",
              "      <td>1584388796862940000</td>\n",
              "      <td>244.89</td>\n",
              "      <td>9</td>\n",
              "      <td>297240026</td>\n",
              "      <td>244.79</td>\n",
              "      <td>244.92</td>\n",
              "      <td>813134710</td>\n",
              "      <td>26</td>\n",
              "    </tr>\n",
              "    <tr>\n",
              "      <th>2147735</th>\n",
              "      <td>1584388798628865000</td>\n",
              "      <td>244.90</td>\n",
              "      <td>1</td>\n",
              "      <td>297240027</td>\n",
              "      <td>244.80</td>\n",
              "      <td>244.95</td>\n",
              "      <td>813134712</td>\n",
              "      <td>26</td>\n",
              "    </tr>\n",
              "    <tr>\n",
              "      <th>2147736</th>\n",
              "      <td>1584388800001778000</td>\n",
              "      <td>239.85</td>\n",
              "      <td>0</td>\n",
              "      <td>297240027</td>\n",
              "      <td>244.79</td>\n",
              "      <td>244.92</td>\n",
              "      <td>1211452497</td>\n",
              "      <td>11</td>\n",
              "    </tr>\n",
              "    <tr>\n",
              "      <th>2147737</th>\n",
              "      <td>1584388800001796000</td>\n",
              "      <td>239.85</td>\n",
              "      <td>0</td>\n",
              "      <td>297240027</td>\n",
              "      <td>244.79</td>\n",
              "      <td>244.92</td>\n",
              "      <td>1211452498</td>\n",
              "      <td>11</td>\n",
              "    </tr>\n",
              "  </tbody>\n",
              "</table>\n",
              "<p>2147738 rows × 8 columns</p>\n",
              "</div>"
            ],
            "text/plain": [
              "                    datetime   price  ...      tickId  tradeMarketCenter\n",
              "0        1584331200017723000  253.20  ...   808464454                 11\n",
              "1        1584331200021236000  262.75  ...   808731993                  5\n",
              "2        1584331200022473000  253.20  ...   808464455                 11\n",
              "3        1584331200023496000  258.84  ...   808731994                  5\n",
              "4        1584331200690195000  253.20  ...   808732012                  5\n",
              "...                      ...     ...  ...         ...                ...\n",
              "2147733  1584388796862917000  244.89  ...   813134709                 26\n",
              "2147734  1584388796862940000  244.89  ...   813134710                 26\n",
              "2147735  1584388798628865000  244.90  ...   813134712                 26\n",
              "2147736  1584388800001778000  239.85  ...  1211452497                 11\n",
              "2147737  1584388800001796000  239.85  ...  1211452498                 11\n",
              "\n",
              "[2147738 rows x 8 columns]"
            ]
          },
          "metadata": {
            "tags": []
          },
          "execution_count": 6
        }
      ]
    },
    {
      "cell_type": "markdown",
      "metadata": {
        "id": "TBxQYD2mvncC"
      },
      "source": [
        "**Пошук аномалій**"
      ]
    },
    {
      "cell_type": "code",
      "metadata": {
        "colab": {
          "base_uri": "https://localhost:8080/",
          "height": 785
        },
        "id": "DIKGAmW1wKlz",
        "outputId": "d73c5c0e-0ff0-4c6d-f72f-432c0b4c48d3"
      },
      "source": [
        "# Кореляційна матриця\n",
        "\n",
        "f = plt.figure(figsize=(15, 12))\n",
        "plt.matshow(df.corr(), fignum=f.number)\n",
        "plt.xticks(range(df.shape[1]), df.columns, fontsize=10, rotation=45)\n",
        "plt.yticks(range(df.shape[1]), df.columns, fontsize=10)\n",
        "cb = plt.colorbar()\n",
        "cb.ax.tick_params(labelsize=10)\n",
        "plt.title('Correlation Matrix', fontsize=12);"
      ],
      "execution_count": 7,
      "outputs": [
        {
          "output_type": "display_data",
          "data": {
            "image/png": "[encoded data removed]",
            "text/plain": [
              "<Figure size 1080x864 with 2 Axes>"
            ]
          },
          "metadata": {
            "tags": [],
            "needs_background": "light"
          }
        }
      ]
    },
    {
      "cell_type": "code",
      "metadata": {
        "id": "VJQCzvKCHtEd",
        "colab": {
          "base_uri": "https://localhost:8080/",
          "height": 1000
        },
        "outputId": "9d704c8d-e6a9-4329-bd0f-4d2d59a9dace"
      },
      "source": [
        "plt.rc('figure',figsize=(12,6))\n",
        "plt.rc('font',size=15)\n",
        "df[['sumVolume']].plot()\n",
        "df[['volume']].plot()\n",
        "df[['price']].plot()"
      ],
      "execution_count": 8,
      "outputs": [
        {
          "output_type": "execute_result",
          "data": {
            "text/plain": [
              "<matplotlib.axes._subplots.AxesSubplot at 0x7fd329f70850>"
            ]
          },
          "metadata": {
            "tags": []
          },
          "execution_count": 8
        },
        {
          "output_type": "display_data",
          "data": {
            "image/png": "[encoded data removed]",
            "text/plain": [
              "<Figure size 864x432 with 1 Axes>"
            ]
          },
          "metadata": {
            "tags": [],
            "needs_background": "light"
          }
        },
        {
          "output_type": "display_data",
          "data": {
            "image/png": "[encoded data removed]",
            "text/plain": [
              "<Figure size 864x432 with 1 Axes>"
            ]
          },
          "metadata": {
            "tags": [],
            "needs_background": "light"
          }
        },
        {
          "output_type": "display_data",
          "data": {
            "image/png": "[encoded data removed]",
            "text/plain": [
              "<Figure size 864x432 with 1 Axes>"
            ]
          },
          "metadata": {
            "tags": [],
            "needs_background": "light"
          }
        }
      ]
    },
    {
      "cell_type": "code",
      "metadata": {
        "colab": {
          "base_uri": "https://localhost:8080/",
          "height": 417
        },
        "id": "axRjkvp7Iag3",
        "outputId": "917f8c42-bdc8-42d8-a938-8f3a48b5912e"
      },
      "source": [
        "outliers_fraction = float(.01)\n",
        "scaler = StandardScaler()\n",
        "# np_scaled = scaler.fit_transform(df[['sumVolume', 'volume', 'price']].values.reshape(-1, 1))\n",
        "np_scaled = scaler.fit_transform(df.values.reshape(-1, 1))\n",
        "data = pd.DataFrame(np_scaled)\n",
        "# train isolation forest\n",
        "model =  IsolationForest(contamination=outliers_fraction)\n",
        "model.fit(data)\n",
        "\n",
        "data.drop_duplicates()"
      ],
      "execution_count": 9,
      "outputs": [
        {
          "output_type": "execute_result",
          "data": {
            "text/html": [
              "<div>\n",
              "<style scoped>\n",
              "    .dataframe tbody tr th:only-of-type {\n",
              "        vertical-align: middle;\n",
              "    }\n",
              "\n",
              "    .dataframe tbody tr th {\n",
              "        vertical-align: top;\n",
              "    }\n",
              "\n",
              "    .dataframe thead th {\n",
              "        text-align: right;\n",
              "    }\n",
              "</style>\n",
              "<table border=\"1\" class=\"dataframe\">\n",
              "  <thead>\n",
              "    <tr style=\"text-align: right;\">\n",
              "      <th></th>\n",
              "      <th>0</th>\n",
              "    </tr>\n",
              "  </thead>\n",
              "  <tbody>\n",
              "    <tr>\n",
              "      <th>0</th>\n",
              "      <td>2.645690</td>\n",
              "    </tr>\n",
              "    <tr>\n",
              "      <th>1</th>\n",
              "      <td>-0.377964</td>\n",
              "    </tr>\n",
              "    <tr>\n",
              "      <th>2</th>\n",
              "      <td>-0.377964</td>\n",
              "    </tr>\n",
              "    <tr>\n",
              "      <th>6</th>\n",
              "      <td>-0.377964</td>\n",
              "    </tr>\n",
              "    <tr>\n",
              "      <th>7</th>\n",
              "      <td>-0.377964</td>\n",
              "    </tr>\n",
              "    <tr>\n",
              "      <th>...</th>\n",
              "      <td>...</td>\n",
              "    </tr>\n",
              "    <tr>\n",
              "      <th>17181867</th>\n",
              "      <td>-0.377964</td>\n",
              "    </tr>\n",
              "    <tr>\n",
              "      <th>17181872</th>\n",
              "      <td>2.645800</td>\n",
              "    </tr>\n",
              "    <tr>\n",
              "      <th>17181880</th>\n",
              "      <td>2.645800</td>\n",
              "    </tr>\n",
              "    <tr>\n",
              "      <th>17181888</th>\n",
              "      <td>2.645800</td>\n",
              "    </tr>\n",
              "    <tr>\n",
              "      <th>17181896</th>\n",
              "      <td>2.645800</td>\n",
              "    </tr>\n",
              "  </tbody>\n",
              "</table>\n",
              "<p>3925276 rows × 1 columns</p>\n",
              "</div>"
            ],
            "text/plain": [
              "                 0\n",
              "0         2.645690\n",
              "1        -0.377964\n",
              "2        -0.377964\n",
              "6        -0.377964\n",
              "7        -0.377964\n",
              "...            ...\n",
              "17181867 -0.377964\n",
              "17181872  2.645800\n",
              "17181880  2.645800\n",
              "17181888  2.645800\n",
              "17181896  2.645800\n",
              "\n",
              "[3925276 rows x 1 columns]"
            ]
          },
          "metadata": {
            "tags": []
          },
          "execution_count": 9
        }
      ]
    },
    {
      "cell_type": "code",
      "metadata": {
        "colab": {
          "base_uri": "https://localhost:8080/",
          "height": 498
        },
        "id": "hhwtpppCUxJM",
        "outputId": "bdf1cf1c-00aa-4a31-ad64-600b08b3ae5d"
      },
      "source": [
        "df['anomaly'] = model.predict(data.head(2147738))\n",
        "# visualization\n",
        "fig, ax = plt.subplots(figsize=(10,6))\n",
        "a = df.loc[df['anomaly'] == -1, ['price']] #anomaly\n",
        "ax.plot(df.index, df['price'], color='black', label = 'Normal')\n",
        "ax.scatter(a.index, a['price'], color='red', label = 'Anomaly')\n",
        "plt.legend()\n",
        "plt.show();"
      ],
      "execution_count": 11,
      "outputs": [
        {
          "output_type": "stream",
          "text": [
            "/usr/local/lib/python3.7/dist-packages/ipykernel_launcher.py:1: SettingWithCopyWarning: \n",
            "A value is trying to be set on a copy of a slice from a DataFrame.\n",
            "Try using .loc[row_indexer,col_indexer] = value instead\n",
            "\n",
            "See the caveats in the documentation: https://pandas.pydata.org/pandas-docs/stable/user_guide/indexing.html#returning-a-view-versus-a-copy\n",
            "  \"\"\"Entry point for launching an IPython kernel.\n"
          ],
          "name": "stderr"
        },
        {
          "output_type": "display_data",
          "data": {
            "image/png": "[encoded data removed]",
            "text/plain": [
              "<Figure size 720x432 with 1 Axes>"
            ]
          },
          "metadata": {
            "tags": [],
            "needs_background": "light"
          }
        }
      ]
    },
    {
      "cell_type": "code",
      "metadata": {
        "colab": {
          "base_uri": "https://localhost:8080/",
          "height": 513
        },
        "id": "tvalyyybUxYT",
        "outputId": "d4edc7a0-44a7-47e1-e8ff-08c6a205b263"
      },
      "source": [
        "df['anomaly'] = model.predict(data.head(2147738))\n",
        "# visualization\n",
        "fig, ax = plt.subplots(figsize=(10,6))\n",
        "a = df.loc[df['anomaly'] == -1, ['volume']] #anomaly\n",
        "ax.plot(df.index, df['volume'], color='black', label = 'Normal')\n",
        "ax.scatter(a.index, a['volume'], color='red', label = 'Anomaly')\n",
        "plt.legend()\n",
        "plt.show();"
      ],
      "execution_count": 12,
      "outputs": [
        {
          "output_type": "stream",
          "text": [
            "/usr/local/lib/python3.7/dist-packages/ipykernel_launcher.py:1: SettingWithCopyWarning: \n",
            "A value is trying to be set on a copy of a slice from a DataFrame.\n",
            "Try using .loc[row_indexer,col_indexer] = value instead\n",
            "\n",
            "See the caveats in the documentation: https://pandas.pydata.org/pandas-docs/stable/user_guide/indexing.html#returning-a-view-versus-a-copy\n",
            "  \"\"\"Entry point for launching an IPython kernel.\n"
          ],
          "name": "stderr"
        },
        {
          "output_type": "display_data",
          "data": {
            "image/png": "[encoded data removed]",
            "text/plain": [
              "<Figure size 720x432 with 1 Axes>"
            ]
          },
          "metadata": {
            "tags": [],
            "needs_background": "light"
          }
        }
      ]
    }
  ]
}